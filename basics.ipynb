{
 "cells": [
  {
   "cell_type": "code",
   "execution_count": 1,
   "id": "9fb416af",
   "metadata": {},
   "outputs": [
    {
     "name": "stdout",
     "output_type": "stream",
     "text": [
      "restart\n"
     ]
    }
   ],
   "source": [
    "print(\"restart\")"
   ]
  },
  {
   "cell_type": "code",
   "execution_count": 7,
   "id": "3d7ec1ba",
   "metadata": {},
   "outputs": [
    {
     "name": "stdout",
     "output_type": "stream",
     "text": [
      "Hello World !\n"
     ]
    }
   ],
   "source": [
    "print(\"Hello World !\")"
   ]
  },
  {
   "cell_type": "code",
   "execution_count": 8,
   "id": "47aefef0",
   "metadata": {},
   "outputs": [
    {
     "name": "stdout",
     "output_type": "stream",
     "text": [
      "7\n"
     ]
    }
   ],
   "source": [
    "print(2+5)"
   ]
  },
  {
   "cell_type": "code",
   "execution_count": 20,
   "id": "25c52361",
   "metadata": {},
   "outputs": [
    {
     "name": "stdout",
     "output_type": "stream",
     "text": [
      "\"2+7\"\n"
     ]
    }
   ],
   "source": [
    "print('\"2+7\"')"
   ]
  },
  {
   "cell_type": "code",
   "execution_count": 15,
   "id": "618e4369",
   "metadata": {},
   "outputs": [
    {
     "name": "stdout",
     "output_type": "stream",
     "text": [
      "###\n"
     ]
    }
   ],
   "source": [
    "print('###')"
   ]
  },
  {
   "cell_type": "code",
   "execution_count": 16,
   "id": "fd9ee7a4",
   "metadata": {},
   "outputs": [
    {
     "name": "stdout",
     "output_type": "stream",
     "text": [
      "5\n",
      "6\n",
      "11\n"
     ]
    }
   ],
   "source": [
    "a=2+3\n",
    "b=3*2\n",
    "c=a+b\n",
    "print(a)\n",
    "print(b)\n",
    "print(c)"
   ]
  },
  {
   "cell_type": "code",
   "execution_count": 35,
   "id": "b260eeed",
   "metadata": {},
   "outputs": [
    {
     "name": "stdout",
     "output_type": "stream",
     "text": [
      "1  \"  .  \"  2\n"
     ]
    }
   ],
   "source": [
    "a='1'+'  \"  . ' ' \"  '+\"2\"\n",
    "print(a)"
   ]
  },
  {
   "cell_type": "code",
   "execution_count": null,
   "id": "c7ca46ef",
   "metadata": {},
   "outputs": [
    {
     "name": "stdout",
     "output_type": "stream",
     "text": [
      "₹₹₹₹Harsha$$$$$$$$\n",
      "18\n"
     ]
    }
   ],
   "source": [
    "h=input()\n",
    "h=(\"₹\"*4)+h+(\"$\"*8)\n",
    "lengths=len(h)\n",
    "print(h)\n",
    "print(lengths)"
   ]
  },
  {
   "cell_type": "code",
   "execution_count": 72,
   "id": "64f658ac",
   "metadata": {},
   "outputs": [
    {
     "name": "stdout",
     "output_type": "stream",
     "text": [
      "ko\n"
     ]
    }
   ],
   "source": [
    "h=\"okok\"\n",
    "print(h[len(h)-1]+(h[len(h)-2]))"
   ]
  },
  {
   "cell_type": "code",
   "execution_count": 140,
   "id": "2836688c",
   "metadata": {},
   "outputs": [
    {
     "name": "stdout",
     "output_type": "stream",
     "text": [
      "k\n"
     ]
    }
   ],
   "source": [
    "h=\"okok\"\n",
    "length=h[len(h)-3]\n",
    "print(length)"
   ]
  },
  {
   "cell_type": "code",
   "execution_count": 79,
   "id": "d29e877b",
   "metadata": {},
   "outputs": [
    {
     "name": "stdout",
     "output_type": "stream",
     "text": [
      " hi\n"
     ]
    }
   ],
   "source": [
    "a=\"hi\"\n",
    "a=\" \"+a\n",
    "print(a)"
   ]
  },
  {
   "cell_type": "code",
   "execution_count": 80,
   "id": "e5bfa593",
   "metadata": {},
   "outputs": [
    {
     "name": "stdout",
     "output_type": "stream",
     "text": [
      "ok\n",
      "###\n"
     ]
    }
   ],
   "source": [
    "n=input()\n",
    "print(n)\n",
    "print(\"###\")"
   ]
  },
  {
   "cell_type": "code",
   "execution_count": 84,
   "id": "696890e3",
   "metadata": {},
   "outputs": [
    {
     "name": "stdout",
     "output_type": "stream",
     "text": [
      "5\n"
     ]
    }
   ],
   "source": [
    "n=input()\n",
    "length=len(n)\n",
    "print(length)"
   ]
  },
  {
   "cell_type": "code",
   "execution_count": 88,
   "id": "0cf4d698",
   "metadata": {},
   "outputs": [
    {
     "name": "stdout",
     "output_type": "stream",
     "text": [
      "Harsha\n"
     ]
    }
   ],
   "source": [
    "n=input()\n",
    "b=input()\n",
    "print(n+b)"
   ]
  },
  {
   "cell_type": "code",
   "execution_count": 93,
   "id": "aa9c527d",
   "metadata": {},
   "outputs": [
    {
     "name": "stdout",
     "output_type": "stream",
     "text": [
      "Harsha is 22 years old\n"
     ]
    }
   ],
   "source": [
    "n=input()\n",
    "y=input()\n",
    "print(n+\" is \"+y+\" years old\" )"
   ]
  },
  {
   "cell_type": "code",
   "execution_count": 107,
   "id": "5a8148cf",
   "metadata": {},
   "outputs": [
    {
     "name": "stdout",
     "output_type": "stream",
     "text": [
      "ok ok ok \n"
     ]
    }
   ],
   "source": [
    "n=input()\n",
    "print((n+\" \")*3)"
   ]
  },
  {
   "cell_type": "code",
   "execution_count": 111,
   "id": "afae22d6",
   "metadata": {},
   "outputs": [
    {
     "name": "stdout",
     "output_type": "stream",
     "text": [
      "* *\n",
      "* *\n"
     ]
    }
   ],
   "source": [
    "print(\"* *\")\n",
    "print(\"* *\")"
   ]
  },
  {
   "cell_type": "code",
   "execution_count": 112,
   "id": "e81e603e",
   "metadata": {},
   "outputs": [
    {
     "name": "stdout",
     "output_type": "stream",
     "text": [
      "* * * congratulations * * *\n"
     ]
    }
   ],
   "source": [
    "n=\"congratulations\"\n",
    "print(\"* \"*3+n+\" *\"*3)"
   ]
  },
  {
   "cell_type": "code",
   "execution_count": 116,
   "id": "149ca928",
   "metadata": {},
   "outputs": [
    {
     "name": "stdout",
     "output_type": "stream",
     "text": [
      "k\n"
     ]
    }
   ],
   "source": [
    "n=\"ok\"*2\n",
    "print(n[3])"
   ]
  },
  {
   "cell_type": "code",
   "execution_count": null,
   "id": "91c6c917",
   "metadata": {},
   "outputs": [
    {
     "name": "stdout",
     "output_type": "stream",
     "text": [
      "8076\n"
     ]
    }
   ],
   "source": [
    "n=input()\n",
    "b=n[::-1] \n",
    "print(b)"
   ]
  }
 ],
 "metadata": {
  "kernelspec": {
   "display_name": "Python 3",
   "language": "python",
   "name": "python3"
  },
  "language_info": {
   "codemirror_mode": {
    "name": "ipython",
    "version": 3
   },
   "file_extension": ".py",
   "mimetype": "text/x-python",
   "name": "python",
   "nbconvert_exporter": "python",
   "pygments_lexer": "ipython3",
   "version": "3.13.5"
  }
 },
 "nbformat": 4,
 "nbformat_minor": 5
}
